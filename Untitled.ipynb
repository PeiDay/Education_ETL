{
 "cells": [
  {
   "cell_type": "code",
   "execution_count": null,
   "id": "7dd2cde5",
   "metadata": {},
   "outputs": [],
   "source": [
    "# Dependencies and Setup\n",
    "import pandas as pd\n",
    "import numpy as np\n",
    "import warnings\n",
    "\n",
    "# Study data files paths\n",
    "average_scores_path = \"Input_Data/naep.csv\"\n",
    "fed_revenue_path = \"Input_Data/states.csv\"\n",
    "\n",
    "# Read the score data and the revenue results\n",
    "scores_data = pd.read_csv(average_scores_path)\n",
    "revenue_data = pd.read_csv(fed_revenue_path)"
   ]
  }
 ],
 "metadata": {
  "kernelspec": {
   "display_name": "Python 3",
   "language": "python",
   "name": "python3"
  },
  "language_info": {
   "codemirror_mode": {
    "name": "ipython",
    "version": 3
   },
   "file_extension": ".py",
   "mimetype": "text/x-python",
   "name": "python",
   "nbconvert_exporter": "python",
   "pygments_lexer": "ipython3",
   "version": "3.8.8"
  }
 },
 "nbformat": 4,
 "nbformat_minor": 5
}
